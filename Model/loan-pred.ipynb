{
 "cells": [
  {
   "cell_type": "code",
   "execution_count": null,
   "metadata": {
    "_cell_guid": "b1076dfc-b9ad-4769-8c92-a6c4dae69d19",
    "_uuid": "8f2839f25d086af736a60e9eeb907d3b93b6e0e5"
   },
   "outputs": [],
   "source": [
    "# This Python 3 environment comes with many helpful analytics libraries installed\n",
    "# It is defined by the kaggle/python Docker image: https://github.com/kaggle/docker-python\n",
    "# For example, here's several helpful packages to load\n",
    "\n",
    "import numpy as np # linear algebra\n",
    "import pandas as pd # data processing, CSV file I/O (e.g. pd.read_csv)\n",
    "\n",
    "# Input data files are available in the read-only \"../input/\" directory\n",
    "# For example, running this (by clicking run or pressing Shift+Enter) will list all files under the input directory\n",
    "\n",
    "import os\n",
    "for dirname, _, filenames in os.walk('/kaggle/input'):\n",
    "    for filename in filenames:\n",
    "        print(os.path.join(dirname, filename))\n",
    "\n",
    "# You can write up to 20GB to the current directory (/kaggle/working/) that gets preserved as output when you create a version using \"Save & Run All\" \n",
    "# You can also write temporary files to /kaggle/temp/, but they won't be saved outside of the current session"
   ]
  },
  {
   "cell_type": "code",
   "execution_count": 1,
   "metadata": {
    "execution": {
     "iopub.execute_input": "2022-05-12T19:05:03.441144Z",
     "iopub.status.busy": "2022-05-12T19:05:03.440250Z",
     "iopub.status.idle": "2022-05-12T19:05:03.447462Z",
     "shell.execute_reply": "2022-05-12T19:05:03.446655Z",
     "shell.execute_reply.started": "2022-05-12T19:05:03.441084Z"
    }
   },
   "outputs": [],
   "source": [
    "import pandas as pd\n",
    "import numpy as np\n",
    "import matplotlib.pyplot as plt\n",
    "%matplotlib inline\n",
    "import seaborn as sns\n",
    "import warnings\n",
    "warnings.filterwarnings('ignore')"
   ]
  },
  {
   "cell_type": "code",
   "execution_count": 2,
   "metadata": {
    "execution": {
     "iopub.execute_input": "2022-05-12T19:05:17.359247Z",
     "iopub.status.busy": "2022-05-12T19:05:17.358933Z",
     "iopub.status.idle": "2022-05-12T19:05:17.377037Z",
     "shell.execute_reply": "2022-05-12T19:05:17.376142Z",
     "shell.execute_reply.started": "2022-05-12T19:05:17.359210Z"
    }
   },
   "outputs": [],
   "source": [
    "df = pd.read_csv('./train_u6lujuX_CVtuZ9i.csv')"
   ]
  },
  {
   "cell_type": "code",
   "execution_count": 3,
   "metadata": {
    "execution": {
     "iopub.execute_input": "2022-05-12T19:05:37.220983Z",
     "iopub.status.busy": "2022-05-12T19:05:37.220412Z",
     "iopub.status.idle": "2022-05-12T19:05:37.247291Z",
     "shell.execute_reply": "2022-05-12T19:05:37.246287Z",
     "shell.execute_reply.started": "2022-05-12T19:05:37.220918Z"
    }
   },
   "outputs": [
    {
     "data": {
      "text/html": [
       "<div>\n",
       "<style scoped>\n",
       "    .dataframe tbody tr th:only-of-type {\n",
       "        vertical-align: middle;\n",
       "    }\n",
       "\n",
       "    .dataframe tbody tr th {\n",
       "        vertical-align: top;\n",
       "    }\n",
       "\n",
       "    .dataframe thead th {\n",
       "        text-align: right;\n",
       "    }\n",
       "</style>\n",
       "<table border=\"1\" class=\"dataframe\">\n",
       "  <thead>\n",
       "    <tr style=\"text-align: right;\">\n",
       "      <th></th>\n",
       "      <th>0</th>\n",
       "      <th>1</th>\n",
       "      <th>2</th>\n",
       "      <th>3</th>\n",
       "      <th>4</th>\n",
       "    </tr>\n",
       "  </thead>\n",
       "  <tbody>\n",
       "    <tr>\n",
       "      <th>Loan_ID</th>\n",
       "      <td>LP001002</td>\n",
       "      <td>LP001003</td>\n",
       "      <td>LP001005</td>\n",
       "      <td>LP001006</td>\n",
       "      <td>LP001008</td>\n",
       "    </tr>\n",
       "    <tr>\n",
       "      <th>Gender</th>\n",
       "      <td>Male</td>\n",
       "      <td>Male</td>\n",
       "      <td>Male</td>\n",
       "      <td>Male</td>\n",
       "      <td>Male</td>\n",
       "    </tr>\n",
       "    <tr>\n",
       "      <th>Married</th>\n",
       "      <td>No</td>\n",
       "      <td>Yes</td>\n",
       "      <td>Yes</td>\n",
       "      <td>Yes</td>\n",
       "      <td>No</td>\n",
       "    </tr>\n",
       "    <tr>\n",
       "      <th>Dependents</th>\n",
       "      <td>0</td>\n",
       "      <td>1</td>\n",
       "      <td>0</td>\n",
       "      <td>0</td>\n",
       "      <td>0</td>\n",
       "    </tr>\n",
       "    <tr>\n",
       "      <th>Education</th>\n",
       "      <td>Graduate</td>\n",
       "      <td>Graduate</td>\n",
       "      <td>Graduate</td>\n",
       "      <td>Not Graduate</td>\n",
       "      <td>Graduate</td>\n",
       "    </tr>\n",
       "    <tr>\n",
       "      <th>Self_Employed</th>\n",
       "      <td>No</td>\n",
       "      <td>No</td>\n",
       "      <td>Yes</td>\n",
       "      <td>No</td>\n",
       "      <td>No</td>\n",
       "    </tr>\n",
       "    <tr>\n",
       "      <th>ApplicantIncome</th>\n",
       "      <td>5849</td>\n",
       "      <td>4583</td>\n",
       "      <td>3000</td>\n",
       "      <td>2583</td>\n",
       "      <td>6000</td>\n",
       "    </tr>\n",
       "    <tr>\n",
       "      <th>CoapplicantIncome</th>\n",
       "      <td>0</td>\n",
       "      <td>1508</td>\n",
       "      <td>0</td>\n",
       "      <td>2358</td>\n",
       "      <td>0</td>\n",
       "    </tr>\n",
       "    <tr>\n",
       "      <th>LoanAmount</th>\n",
       "      <td>NaN</td>\n",
       "      <td>128</td>\n",
       "      <td>66</td>\n",
       "      <td>120</td>\n",
       "      <td>141</td>\n",
       "    </tr>\n",
       "    <tr>\n",
       "      <th>Loan_Amount_Term</th>\n",
       "      <td>360</td>\n",
       "      <td>360</td>\n",
       "      <td>360</td>\n",
       "      <td>360</td>\n",
       "      <td>360</td>\n",
       "    </tr>\n",
       "    <tr>\n",
       "      <th>Credit_History</th>\n",
       "      <td>1</td>\n",
       "      <td>1</td>\n",
       "      <td>1</td>\n",
       "      <td>1</td>\n",
       "      <td>1</td>\n",
       "    </tr>\n",
       "    <tr>\n",
       "      <th>Property_Area</th>\n",
       "      <td>Urban</td>\n",
       "      <td>Rural</td>\n",
       "      <td>Urban</td>\n",
       "      <td>Urban</td>\n",
       "      <td>Urban</td>\n",
       "    </tr>\n",
       "    <tr>\n",
       "      <th>Loan_Status</th>\n",
       "      <td>Y</td>\n",
       "      <td>N</td>\n",
       "      <td>Y</td>\n",
       "      <td>Y</td>\n",
       "      <td>Y</td>\n",
       "    </tr>\n",
       "  </tbody>\n",
       "</table>\n",
       "</div>"
      ],
      "text/plain": [
       "                          0         1         2             3         4\n",
       "Loan_ID            LP001002  LP001003  LP001005      LP001006  LP001008\n",
       "Gender                 Male      Male      Male          Male      Male\n",
       "Married                  No       Yes       Yes           Yes        No\n",
       "Dependents                0         1         0             0         0\n",
       "Education          Graduate  Graduate  Graduate  Not Graduate  Graduate\n",
       "Self_Employed            No        No       Yes            No        No\n",
       "ApplicantIncome        5849      4583      3000          2583      6000\n",
       "CoapplicantIncome         0      1508         0          2358         0\n",
       "LoanAmount              NaN       128        66           120       141\n",
       "Loan_Amount_Term        360       360       360           360       360\n",
       "Credit_History            1         1         1             1         1\n",
       "Property_Area         Urban     Rural     Urban         Urban     Urban\n",
       "Loan_Status               Y         N         Y             Y         Y"
      ]
     },
     "execution_count": 3,
     "metadata": {},
     "output_type": "execute_result"
    }
   ],
   "source": [
    "df.head().T"
   ]
  },
  {
   "cell_type": "markdown",
   "metadata": {},
   "source": [
    "statistical Overview\n"
   ]
  },
  {
   "cell_type": "code",
   "execution_count": 4,
   "metadata": {
    "execution": {
     "iopub.execute_input": "2022-05-12T19:05:59.800802Z",
     "iopub.status.busy": "2022-05-12T19:05:59.800356Z",
     "iopub.status.idle": "2022-05-12T19:05:59.838443Z",
     "shell.execute_reply": "2022-05-12T19:05:59.837458Z",
     "shell.execute_reply.started": "2022-05-12T19:05:59.800769Z"
    }
   },
   "outputs": [
    {
     "data": {
      "text/html": [
       "<div>\n",
       "<style scoped>\n",
       "    .dataframe tbody tr th:only-of-type {\n",
       "        vertical-align: middle;\n",
       "    }\n",
       "\n",
       "    .dataframe tbody tr th {\n",
       "        vertical-align: top;\n",
       "    }\n",
       "\n",
       "    .dataframe thead th {\n",
       "        text-align: right;\n",
       "    }\n",
       "</style>\n",
       "<table border=\"1\" class=\"dataframe\">\n",
       "  <thead>\n",
       "    <tr style=\"text-align: right;\">\n",
       "      <th></th>\n",
       "      <th>ApplicantIncome</th>\n",
       "      <th>CoapplicantIncome</th>\n",
       "      <th>LoanAmount</th>\n",
       "      <th>Loan_Amount_Term</th>\n",
       "      <th>Credit_History</th>\n",
       "    </tr>\n",
       "  </thead>\n",
       "  <tbody>\n",
       "    <tr>\n",
       "      <th>count</th>\n",
       "      <td>614.000000</td>\n",
       "      <td>614.000000</td>\n",
       "      <td>592.000000</td>\n",
       "      <td>600.00000</td>\n",
       "      <td>564.000000</td>\n",
       "    </tr>\n",
       "    <tr>\n",
       "      <th>mean</th>\n",
       "      <td>5403.459283</td>\n",
       "      <td>1621.245798</td>\n",
       "      <td>146.412162</td>\n",
       "      <td>342.00000</td>\n",
       "      <td>0.842199</td>\n",
       "    </tr>\n",
       "    <tr>\n",
       "      <th>std</th>\n",
       "      <td>6109.041673</td>\n",
       "      <td>2926.248369</td>\n",
       "      <td>85.587325</td>\n",
       "      <td>65.12041</td>\n",
       "      <td>0.364878</td>\n",
       "    </tr>\n",
       "    <tr>\n",
       "      <th>min</th>\n",
       "      <td>150.000000</td>\n",
       "      <td>0.000000</td>\n",
       "      <td>9.000000</td>\n",
       "      <td>12.00000</td>\n",
       "      <td>0.000000</td>\n",
       "    </tr>\n",
       "    <tr>\n",
       "      <th>25%</th>\n",
       "      <td>2877.500000</td>\n",
       "      <td>0.000000</td>\n",
       "      <td>100.000000</td>\n",
       "      <td>360.00000</td>\n",
       "      <td>1.000000</td>\n",
       "    </tr>\n",
       "    <tr>\n",
       "      <th>50%</th>\n",
       "      <td>3812.500000</td>\n",
       "      <td>1188.500000</td>\n",
       "      <td>128.000000</td>\n",
       "      <td>360.00000</td>\n",
       "      <td>1.000000</td>\n",
       "    </tr>\n",
       "    <tr>\n",
       "      <th>75%</th>\n",
       "      <td>5795.000000</td>\n",
       "      <td>2297.250000</td>\n",
       "      <td>168.000000</td>\n",
       "      <td>360.00000</td>\n",
       "      <td>1.000000</td>\n",
       "    </tr>\n",
       "    <tr>\n",
       "      <th>max</th>\n",
       "      <td>81000.000000</td>\n",
       "      <td>41667.000000</td>\n",
       "      <td>700.000000</td>\n",
       "      <td>480.00000</td>\n",
       "      <td>1.000000</td>\n",
       "    </tr>\n",
       "  </tbody>\n",
       "</table>\n",
       "</div>"
      ],
      "text/plain": [
       "       ApplicantIncome  CoapplicantIncome  LoanAmount  Loan_Amount_Term  \\\n",
       "count       614.000000         614.000000  592.000000         600.00000   \n",
       "mean       5403.459283        1621.245798  146.412162         342.00000   \n",
       "std        6109.041673        2926.248369   85.587325          65.12041   \n",
       "min         150.000000           0.000000    9.000000          12.00000   \n",
       "25%        2877.500000           0.000000  100.000000         360.00000   \n",
       "50%        3812.500000        1188.500000  128.000000         360.00000   \n",
       "75%        5795.000000        2297.250000  168.000000         360.00000   \n",
       "max       81000.000000       41667.000000  700.000000         480.00000   \n",
       "\n",
       "       Credit_History  \n",
       "count      564.000000  \n",
       "mean         0.842199  \n",
       "std          0.364878  \n",
       "min          0.000000  \n",
       "25%          1.000000  \n",
       "50%          1.000000  \n",
       "75%          1.000000  \n",
       "max          1.000000  "
      ]
     },
     "execution_count": 4,
     "metadata": {},
     "output_type": "execute_result"
    }
   ],
   "source": [
    "df.describe()"
   ]
  },
  {
   "cell_type": "markdown",
   "metadata": {},
   "source": [
    "Summary of data"
   ]
  },
  {
   "cell_type": "code",
   "execution_count": 5,
   "metadata": {
    "execution": {
     "iopub.execute_input": "2022-05-12T19:06:57.634366Z",
     "iopub.status.busy": "2022-05-12T19:06:57.633942Z",
     "iopub.status.idle": "2022-05-12T19:06:57.652934Z",
     "shell.execute_reply": "2022-05-12T19:06:57.652261Z",
     "shell.execute_reply.started": "2022-05-12T19:06:57.634336Z"
    }
   },
   "outputs": [
    {
     "name": "stdout",
     "output_type": "stream",
     "text": [
      "<class 'pandas.core.frame.DataFrame'>\n",
      "RangeIndex: 614 entries, 0 to 613\n",
      "Data columns (total 13 columns):\n",
      " #   Column             Non-Null Count  Dtype  \n",
      "---  ------             --------------  -----  \n",
      " 0   Loan_ID            614 non-null    object \n",
      " 1   Gender             601 non-null    object \n",
      " 2   Married            611 non-null    object \n",
      " 3   Dependents         599 non-null    object \n",
      " 4   Education          614 non-null    object \n",
      " 5   Self_Employed      582 non-null    object \n",
      " 6   ApplicantIncome    614 non-null    int64  \n",
      " 7   CoapplicantIncome  614 non-null    float64\n",
      " 8   LoanAmount         592 non-null    float64\n",
      " 9   Loan_Amount_Term   600 non-null    float64\n",
      " 10  Credit_History     564 non-null    float64\n",
      " 11  Property_Area      614 non-null    object \n",
      " 12  Loan_Status        614 non-null    object \n",
      "dtypes: float64(4), int64(1), object(8)\n",
      "memory usage: 62.5+ KB\n"
     ]
    }
   ],
   "source": [
    "df.info()"
   ]
  },
  {
   "cell_type": "code",
   "execution_count": 6,
   "metadata": {
    "execution": {
     "iopub.execute_input": "2022-05-12T19:07:08.277258Z",
     "iopub.status.busy": "2022-05-12T19:07:08.276768Z",
     "iopub.status.idle": "2022-05-12T19:07:08.284607Z",
     "shell.execute_reply": "2022-05-12T19:07:08.283406Z",
     "shell.execute_reply.started": "2022-05-12T19:07:08.277224Z"
    }
   },
   "outputs": [
    {
     "data": {
      "text/plain": [
       "Loan_ID               object\n",
       "Gender                object\n",
       "Married               object\n",
       "Dependents            object\n",
       "Education             object\n",
       "Self_Employed         object\n",
       "ApplicantIncome        int64\n",
       "CoapplicantIncome    float64\n",
       "LoanAmount           float64\n",
       "Loan_Amount_Term     float64\n",
       "Credit_History       float64\n",
       "Property_Area         object\n",
       "Loan_Status           object\n",
       "dtype: object"
      ]
     },
     "execution_count": 6,
     "metadata": {},
     "output_type": "execute_result"
    }
   ],
   "source": [
    "df.dtypes"
   ]
  },
  {
   "cell_type": "markdown",
   "metadata": {},
   "source": [
    "#test 1: check if dup"
   ]
  },
  {
   "cell_type": "code",
   "execution_count": 7,
   "metadata": {
    "execution": {
     "iopub.execute_input": "2022-05-12T19:07:47.748435Z",
     "iopub.status.busy": "2022-05-12T19:07:47.747378Z",
     "iopub.status.idle": "2022-05-12T19:07:47.760313Z",
     "shell.execute_reply": "2022-05-12T19:07:47.759476Z",
     "shell.execute_reply.started": "2022-05-12T19:07:47.748390Z"
    }
   },
   "outputs": [
    {
     "data": {
      "text/plain": [
       "False"
      ]
     },
     "execution_count": 7,
     "metadata": {},
     "output_type": "execute_result"
    }
   ],
   "source": [
    "df.duplicated().any()"
   ]
  },
  {
   "cell_type": "markdown",
   "metadata": {},
   "source": [
    "drop unnecessary columns"
   ]
  },
  {
   "cell_type": "code",
   "execution_count": 8,
   "metadata": {
    "execution": {
     "iopub.execute_input": "2022-05-12T19:08:42.840281Z",
     "iopub.status.busy": "2022-05-12T19:08:42.839838Z",
     "iopub.status.idle": "2022-05-12T19:08:42.856187Z",
     "shell.execute_reply": "2022-05-12T19:08:42.855088Z",
     "shell.execute_reply.started": "2022-05-12T19:08:42.840239Z"
    }
   },
   "outputs": [
    {
     "data": {
      "text/html": [
       "<div>\n",
       "<style scoped>\n",
       "    .dataframe tbody tr th:only-of-type {\n",
       "        vertical-align: middle;\n",
       "    }\n",
       "\n",
       "    .dataframe tbody tr th {\n",
       "        vertical-align: top;\n",
       "    }\n",
       "\n",
       "    .dataframe thead th {\n",
       "        text-align: right;\n",
       "    }\n",
       "</style>\n",
       "<table border=\"1\" class=\"dataframe\">\n",
       "  <thead>\n",
       "    <tr style=\"text-align: right;\">\n",
       "      <th></th>\n",
       "      <th>0</th>\n",
       "      <th>1</th>\n",
       "      <th>2</th>\n",
       "      <th>3</th>\n",
       "      <th>4</th>\n",
       "    </tr>\n",
       "  </thead>\n",
       "  <tbody>\n",
       "    <tr>\n",
       "      <th>Gender</th>\n",
       "      <td>Male</td>\n",
       "      <td>Male</td>\n",
       "      <td>Male</td>\n",
       "      <td>Male</td>\n",
       "      <td>Male</td>\n",
       "    </tr>\n",
       "    <tr>\n",
       "      <th>Married</th>\n",
       "      <td>No</td>\n",
       "      <td>Yes</td>\n",
       "      <td>Yes</td>\n",
       "      <td>Yes</td>\n",
       "      <td>No</td>\n",
       "    </tr>\n",
       "    <tr>\n",
       "      <th>Dependents</th>\n",
       "      <td>0</td>\n",
       "      <td>1</td>\n",
       "      <td>0</td>\n",
       "      <td>0</td>\n",
       "      <td>0</td>\n",
       "    </tr>\n",
       "    <tr>\n",
       "      <th>Education</th>\n",
       "      <td>Graduate</td>\n",
       "      <td>Graduate</td>\n",
       "      <td>Graduate</td>\n",
       "      <td>Not Graduate</td>\n",
       "      <td>Graduate</td>\n",
       "    </tr>\n",
       "    <tr>\n",
       "      <th>Self_Employed</th>\n",
       "      <td>No</td>\n",
       "      <td>No</td>\n",
       "      <td>Yes</td>\n",
       "      <td>No</td>\n",
       "      <td>No</td>\n",
       "    </tr>\n",
       "    <tr>\n",
       "      <th>ApplicantIncome</th>\n",
       "      <td>5849</td>\n",
       "      <td>4583</td>\n",
       "      <td>3000</td>\n",
       "      <td>2583</td>\n",
       "      <td>6000</td>\n",
       "    </tr>\n",
       "    <tr>\n",
       "      <th>CoapplicantIncome</th>\n",
       "      <td>0</td>\n",
       "      <td>1508</td>\n",
       "      <td>0</td>\n",
       "      <td>2358</td>\n",
       "      <td>0</td>\n",
       "    </tr>\n",
       "    <tr>\n",
       "      <th>LoanAmount</th>\n",
       "      <td>NaN</td>\n",
       "      <td>128</td>\n",
       "      <td>66</td>\n",
       "      <td>120</td>\n",
       "      <td>141</td>\n",
       "    </tr>\n",
       "    <tr>\n",
       "      <th>Loan_Amount_Term</th>\n",
       "      <td>360</td>\n",
       "      <td>360</td>\n",
       "      <td>360</td>\n",
       "      <td>360</td>\n",
       "      <td>360</td>\n",
       "    </tr>\n",
       "    <tr>\n",
       "      <th>Credit_History</th>\n",
       "      <td>1</td>\n",
       "      <td>1</td>\n",
       "      <td>1</td>\n",
       "      <td>1</td>\n",
       "      <td>1</td>\n",
       "    </tr>\n",
       "    <tr>\n",
       "      <th>Property_Area</th>\n",
       "      <td>Urban</td>\n",
       "      <td>Rural</td>\n",
       "      <td>Urban</td>\n",
       "      <td>Urban</td>\n",
       "      <td>Urban</td>\n",
       "    </tr>\n",
       "    <tr>\n",
       "      <th>Loan_Status</th>\n",
       "      <td>Y</td>\n",
       "      <td>N</td>\n",
       "      <td>Y</td>\n",
       "      <td>Y</td>\n",
       "      <td>Y</td>\n",
       "    </tr>\n",
       "  </tbody>\n",
       "</table>\n",
       "</div>"
      ],
      "text/plain": [
       "                          0         1         2             3         4\n",
       "Gender                 Male      Male      Male          Male      Male\n",
       "Married                  No       Yes       Yes           Yes        No\n",
       "Dependents                0         1         0             0         0\n",
       "Education          Graduate  Graduate  Graduate  Not Graduate  Graduate\n",
       "Self_Employed            No        No       Yes            No        No\n",
       "ApplicantIncome        5849      4583      3000          2583      6000\n",
       "CoapplicantIncome         0      1508         0          2358         0\n",
       "LoanAmount              NaN       128        66           120       141\n",
       "Loan_Amount_Term        360       360       360           360       360\n",
       "Credit_History            1         1         1             1         1\n",
       "Property_Area         Urban     Rural     Urban         Urban     Urban\n",
       "Loan_Status               Y         N         Y             Y         Y"
      ]
     },
     "execution_count": 8,
     "metadata": {},
     "output_type": "execute_result"
    }
   ],
   "source": [
    "df = df.drop(\"Loan_ID\", axis=1)\n",
    "df.head().T"
   ]
  },
  {
   "cell_type": "code",
   "execution_count": 9,
   "metadata": {
    "execution": {
     "iopub.execute_input": "2022-05-12T19:09:04.441226Z",
     "iopub.status.busy": "2022-05-12T19:09:04.440399Z",
     "iopub.status.idle": "2022-05-12T19:09:04.448110Z",
     "shell.execute_reply": "2022-05-12T19:09:04.447354Z",
     "shell.execute_reply.started": "2022-05-12T19:09:04.441181Z"
    }
   },
   "outputs": [],
   "source": [
    "# Splitting data into categorical and numerical.\n",
    "\n",
    "cat_data = []\n",
    "num_data = []\n",
    "\n",
    "for index, type in enumerate(df.dtypes):\n",
    "    if type == \"object\":\n",
    "        cat_data.append(df.iloc[:, index])\n",
    "    else:\n",
    "        num_data.append(df.iloc[:,index])"
   ]
  },
  {
   "cell_type": "code",
   "execution_count": 10,
   "metadata": {
    "execution": {
     "iopub.execute_input": "2022-05-12T19:09:20.393825Z",
     "iopub.status.busy": "2022-05-12T19:09:20.393377Z",
     "iopub.status.idle": "2022-05-12T19:09:20.434814Z",
     "shell.execute_reply": "2022-05-12T19:09:20.434023Z",
     "shell.execute_reply.started": "2022-05-12T19:09:20.393793Z"
    }
   },
   "outputs": [
    {
     "data": {
      "text/html": [
       "<div>\n",
       "<style scoped>\n",
       "    .dataframe tbody tr th:only-of-type {\n",
       "        vertical-align: middle;\n",
       "    }\n",
       "\n",
       "    .dataframe tbody tr th {\n",
       "        vertical-align: top;\n",
       "    }\n",
       "\n",
       "    .dataframe thead th {\n",
       "        text-align: right;\n",
       "    }\n",
       "</style>\n",
       "<table border=\"1\" class=\"dataframe\">\n",
       "  <thead>\n",
       "    <tr style=\"text-align: right;\">\n",
       "      <th></th>\n",
       "      <th>Gender</th>\n",
       "      <th>Married</th>\n",
       "      <th>Dependents</th>\n",
       "      <th>Education</th>\n",
       "      <th>Self_Employed</th>\n",
       "      <th>Property_Area</th>\n",
       "      <th>Loan_Status</th>\n",
       "    </tr>\n",
       "  </thead>\n",
       "  <tbody>\n",
       "    <tr>\n",
       "      <th>0</th>\n",
       "      <td>Male</td>\n",
       "      <td>No</td>\n",
       "      <td>0</td>\n",
       "      <td>Graduate</td>\n",
       "      <td>No</td>\n",
       "      <td>Urban</td>\n",
       "      <td>Y</td>\n",
       "    </tr>\n",
       "    <tr>\n",
       "      <th>1</th>\n",
       "      <td>Male</td>\n",
       "      <td>Yes</td>\n",
       "      <td>1</td>\n",
       "      <td>Graduate</td>\n",
       "      <td>No</td>\n",
       "      <td>Rural</td>\n",
       "      <td>N</td>\n",
       "    </tr>\n",
       "    <tr>\n",
       "      <th>2</th>\n",
       "      <td>Male</td>\n",
       "      <td>Yes</td>\n",
       "      <td>0</td>\n",
       "      <td>Graduate</td>\n",
       "      <td>Yes</td>\n",
       "      <td>Urban</td>\n",
       "      <td>Y</td>\n",
       "    </tr>\n",
       "    <tr>\n",
       "      <th>3</th>\n",
       "      <td>Male</td>\n",
       "      <td>Yes</td>\n",
       "      <td>0</td>\n",
       "      <td>Not Graduate</td>\n",
       "      <td>No</td>\n",
       "      <td>Urban</td>\n",
       "      <td>Y</td>\n",
       "    </tr>\n",
       "    <tr>\n",
       "      <th>4</th>\n",
       "      <td>Male</td>\n",
       "      <td>No</td>\n",
       "      <td>0</td>\n",
       "      <td>Graduate</td>\n",
       "      <td>No</td>\n",
       "      <td>Urban</td>\n",
       "      <td>Y</td>\n",
       "    </tr>\n",
       "  </tbody>\n",
       "</table>\n",
       "</div>"
      ],
      "text/plain": [
       "  Gender Married Dependents     Education Self_Employed Property_Area  \\\n",
       "0   Male      No          0      Graduate            No         Urban   \n",
       "1   Male     Yes          1      Graduate            No         Rural   \n",
       "2   Male     Yes          0      Graduate           Yes         Urban   \n",
       "3   Male     Yes          0  Not Graduate            No         Urban   \n",
       "4   Male      No          0      Graduate            No         Urban   \n",
       "\n",
       "  Loan_Status  \n",
       "0           Y  \n",
       "1           N  \n",
       "2           Y  \n",
       "3           Y  \n",
       "4           Y  "
      ]
     },
     "execution_count": 10,
     "metadata": {},
     "output_type": "execute_result"
    }
   ],
   "source": [
    "cat_data = pd.DataFrame(cat_data).transpose()\n",
    "cat_data.head()"
   ]
  },
  {
   "cell_type": "code",
   "execution_count": 11,
   "metadata": {
    "execution": {
     "iopub.execute_input": "2022-05-12T19:09:37.465245Z",
     "iopub.status.busy": "2022-05-12T19:09:37.464814Z",
     "iopub.status.idle": "2022-05-12T19:09:37.491446Z",
     "shell.execute_reply": "2022-05-12T19:09:37.490474Z",
     "shell.execute_reply.started": "2022-05-12T19:09:37.465213Z"
    }
   },
   "outputs": [
    {
     "data": {
      "text/html": [
       "<div>\n",
       "<style scoped>\n",
       "    .dataframe tbody tr th:only-of-type {\n",
       "        vertical-align: middle;\n",
       "    }\n",
       "\n",
       "    .dataframe tbody tr th {\n",
       "        vertical-align: top;\n",
       "    }\n",
       "\n",
       "    .dataframe thead th {\n",
       "        text-align: right;\n",
       "    }\n",
       "</style>\n",
       "<table border=\"1\" class=\"dataframe\">\n",
       "  <thead>\n",
       "    <tr style=\"text-align: right;\">\n",
       "      <th></th>\n",
       "      <th>ApplicantIncome</th>\n",
       "      <th>CoapplicantIncome</th>\n",
       "      <th>LoanAmount</th>\n",
       "      <th>Loan_Amount_Term</th>\n",
       "      <th>Credit_History</th>\n",
       "    </tr>\n",
       "  </thead>\n",
       "  <tbody>\n",
       "    <tr>\n",
       "      <th>0</th>\n",
       "      <td>5849.0</td>\n",
       "      <td>0.0</td>\n",
       "      <td>NaN</td>\n",
       "      <td>360.0</td>\n",
       "      <td>1.0</td>\n",
       "    </tr>\n",
       "    <tr>\n",
       "      <th>1</th>\n",
       "      <td>4583.0</td>\n",
       "      <td>1508.0</td>\n",
       "      <td>128.0</td>\n",
       "      <td>360.0</td>\n",
       "      <td>1.0</td>\n",
       "    </tr>\n",
       "    <tr>\n",
       "      <th>2</th>\n",
       "      <td>3000.0</td>\n",
       "      <td>0.0</td>\n",
       "      <td>66.0</td>\n",
       "      <td>360.0</td>\n",
       "      <td>1.0</td>\n",
       "    </tr>\n",
       "    <tr>\n",
       "      <th>3</th>\n",
       "      <td>2583.0</td>\n",
       "      <td>2358.0</td>\n",
       "      <td>120.0</td>\n",
       "      <td>360.0</td>\n",
       "      <td>1.0</td>\n",
       "    </tr>\n",
       "    <tr>\n",
       "      <th>4</th>\n",
       "      <td>6000.0</td>\n",
       "      <td>0.0</td>\n",
       "      <td>141.0</td>\n",
       "      <td>360.0</td>\n",
       "      <td>1.0</td>\n",
       "    </tr>\n",
       "  </tbody>\n",
       "</table>\n",
       "</div>"
      ],
      "text/plain": [
       "   ApplicantIncome  CoapplicantIncome  LoanAmount  Loan_Amount_Term  \\\n",
       "0           5849.0                0.0         NaN             360.0   \n",
       "1           4583.0             1508.0       128.0             360.0   \n",
       "2           3000.0                0.0        66.0             360.0   \n",
       "3           2583.0             2358.0       120.0             360.0   \n",
       "4           6000.0                0.0       141.0             360.0   \n",
       "\n",
       "   Credit_History  \n",
       "0             1.0  \n",
       "1             1.0  \n",
       "2             1.0  \n",
       "3             1.0  \n",
       "4             1.0  "
      ]
     },
     "execution_count": 11,
     "metadata": {},
     "output_type": "execute_result"
    }
   ],
   "source": [
    "num_data = pd.DataFrame(num_data).transpose()\n",
    "num_data.head()"
   ]
  },
  {
   "cell_type": "code",
   "execution_count": 12,
   "metadata": {
    "execution": {
     "iopub.execute_input": "2022-05-12T19:10:03.724234Z",
     "iopub.status.busy": "2022-05-12T19:10:03.723964Z",
     "iopub.status.idle": "2022-05-12T19:10:03.733934Z",
     "shell.execute_reply": "2022-05-12T19:10:03.733017Z",
     "shell.execute_reply.started": "2022-05-12T19:10:03.724205Z"
    }
   },
   "outputs": [
    {
     "data": {
      "text/plain": [
       "Gender           13\n",
       "Married           3\n",
       "Dependents       15\n",
       "Education         0\n",
       "Self_Employed    32\n",
       "Property_Area     0\n",
       "Loan_Status       0\n",
       "dtype: int64"
      ]
     },
     "execution_count": 12,
     "metadata": {},
     "output_type": "execute_result"
    }
   ],
   "source": [
    "#getting deep into categorical data\n",
    "cat_data.isna().sum()"
   ]
  },
  {
   "cell_type": "code",
   "execution_count": 13,
   "metadata": {
    "execution": {
     "iopub.execute_input": "2022-05-12T19:10:22.197405Z",
     "iopub.status.busy": "2022-05-12T19:10:22.197082Z",
     "iopub.status.idle": "2022-05-12T19:10:22.214377Z",
     "shell.execute_reply": "2022-05-12T19:10:22.213756Z",
     "shell.execute_reply.started": "2022-05-12T19:10:22.197369Z"
    }
   },
   "outputs": [
    {
     "data": {
      "text/plain": [
       "Gender           0\n",
       "Married          0\n",
       "Dependents       0\n",
       "Education        0\n",
       "Self_Employed    0\n",
       "Property_Area    0\n",
       "Loan_Status      0\n",
       "dtype: int64"
      ]
     },
     "execution_count": 13,
     "metadata": {},
     "output_type": "execute_result"
    }
   ],
   "source": [
    "# Filling missing values with mode.\n",
    "\n",
    "cat_data = cat_data.apply(lambda x: x.fillna(x.value_counts().index[0]))\n",
    "cat_data.isna().sum()"
   ]
  },
  {
   "cell_type": "code",
   "execution_count": 14,
   "metadata": {
    "execution": {
     "iopub.execute_input": "2022-05-12T19:10:39.245986Z",
     "iopub.status.busy": "2022-05-12T19:10:39.245302Z",
     "iopub.status.idle": "2022-05-12T19:10:39.274741Z",
     "shell.execute_reply": "2022-05-12T19:10:39.273099Z",
     "shell.execute_reply.started": "2022-05-12T19:10:39.245938Z"
    }
   },
   "outputs": [
    {
     "data": {
      "text/html": [
       "<div>\n",
       "<style scoped>\n",
       "    .dataframe tbody tr th:only-of-type {\n",
       "        vertical-align: middle;\n",
       "    }\n",
       "\n",
       "    .dataframe tbody tr th {\n",
       "        vertical-align: top;\n",
       "    }\n",
       "\n",
       "    .dataframe thead th {\n",
       "        text-align: right;\n",
       "    }\n",
       "</style>\n",
       "<table border=\"1\" class=\"dataframe\">\n",
       "  <thead>\n",
       "    <tr style=\"text-align: right;\">\n",
       "      <th></th>\n",
       "      <th>ApplicantIncome</th>\n",
       "      <th>CoapplicantIncome</th>\n",
       "      <th>LoanAmount</th>\n",
       "      <th>Loan_Amount_Term</th>\n",
       "      <th>Credit_History</th>\n",
       "    </tr>\n",
       "  </thead>\n",
       "  <tbody>\n",
       "    <tr>\n",
       "      <th>count</th>\n",
       "      <td>614.000000</td>\n",
       "      <td>614.000000</td>\n",
       "      <td>592.000000</td>\n",
       "      <td>600.00000</td>\n",
       "      <td>564.000000</td>\n",
       "    </tr>\n",
       "    <tr>\n",
       "      <th>mean</th>\n",
       "      <td>5403.459283</td>\n",
       "      <td>1621.245798</td>\n",
       "      <td>146.412162</td>\n",
       "      <td>342.00000</td>\n",
       "      <td>0.842199</td>\n",
       "    </tr>\n",
       "    <tr>\n",
       "      <th>std</th>\n",
       "      <td>6109.041673</td>\n",
       "      <td>2926.248369</td>\n",
       "      <td>85.587325</td>\n",
       "      <td>65.12041</td>\n",
       "      <td>0.364878</td>\n",
       "    </tr>\n",
       "    <tr>\n",
       "      <th>min</th>\n",
       "      <td>150.000000</td>\n",
       "      <td>0.000000</td>\n",
       "      <td>9.000000</td>\n",
       "      <td>12.00000</td>\n",
       "      <td>0.000000</td>\n",
       "    </tr>\n",
       "    <tr>\n",
       "      <th>25%</th>\n",
       "      <td>2877.500000</td>\n",
       "      <td>0.000000</td>\n",
       "      <td>100.000000</td>\n",
       "      <td>360.00000</td>\n",
       "      <td>1.000000</td>\n",
       "    </tr>\n",
       "    <tr>\n",
       "      <th>50%</th>\n",
       "      <td>3812.500000</td>\n",
       "      <td>1188.500000</td>\n",
       "      <td>128.000000</td>\n",
       "      <td>360.00000</td>\n",
       "      <td>1.000000</td>\n",
       "    </tr>\n",
       "    <tr>\n",
       "      <th>75%</th>\n",
       "      <td>5795.000000</td>\n",
       "      <td>2297.250000</td>\n",
       "      <td>168.000000</td>\n",
       "      <td>360.00000</td>\n",
       "      <td>1.000000</td>\n",
       "    </tr>\n",
       "    <tr>\n",
       "      <th>max</th>\n",
       "      <td>81000.000000</td>\n",
       "      <td>41667.000000</td>\n",
       "      <td>700.000000</td>\n",
       "      <td>480.00000</td>\n",
       "      <td>1.000000</td>\n",
       "    </tr>\n",
       "  </tbody>\n",
       "</table>\n",
       "</div>"
      ],
      "text/plain": [
       "       ApplicantIncome  CoapplicantIncome  LoanAmount  Loan_Amount_Term  \\\n",
       "count       614.000000         614.000000  592.000000         600.00000   \n",
       "mean       5403.459283        1621.245798  146.412162         342.00000   \n",
       "std        6109.041673        2926.248369   85.587325          65.12041   \n",
       "min         150.000000           0.000000    9.000000          12.00000   \n",
       "25%        2877.500000           0.000000  100.000000         360.00000   \n",
       "50%        3812.500000        1188.500000  128.000000         360.00000   \n",
       "75%        5795.000000        2297.250000  168.000000         360.00000   \n",
       "max       81000.000000       41667.000000  700.000000         480.00000   \n",
       "\n",
       "       Credit_History  \n",
       "count      564.000000  \n",
       "mean         0.842199  \n",
       "std          0.364878  \n",
       "min          0.000000  \n",
       "25%          1.000000  \n",
       "50%          1.000000  \n",
       "75%          1.000000  \n",
       "max          1.000000  "
      ]
     },
     "execution_count": 14,
     "metadata": {},
     "output_type": "execute_result"
    }
   ],
   "source": [
    "#  Filling missing values in the numerical data.\n",
    "#  Firstly, let's check the stats.\n",
    "num_data.describe()"
   ]
  },
  {
   "cell_type": "code",
   "execution_count": 15,
   "metadata": {
    "execution": {
     "iopub.execute_input": "2022-05-12T19:10:55.409226Z",
     "iopub.status.busy": "2022-05-12T19:10:55.408574Z",
     "iopub.status.idle": "2022-05-12T19:10:55.416358Z",
     "shell.execute_reply": "2022-05-12T19:10:55.415309Z",
     "shell.execute_reply.started": "2022-05-12T19:10:55.409193Z"
    }
   },
   "outputs": [
    {
     "data": {
      "text/plain": [
       "ApplicantIncome       0\n",
       "CoapplicantIncome     0\n",
       "LoanAmount           22\n",
       "Loan_Amount_Term     14\n",
       "Credit_History       50\n",
       "dtype: int64"
      ]
     },
     "execution_count": 15,
     "metadata": {},
     "output_type": "execute_result"
    }
   ],
   "source": [
    "num_data.isna().sum()"
   ]
  },
  {
   "cell_type": "code",
   "execution_count": 16,
   "metadata": {
    "execution": {
     "iopub.execute_input": "2022-05-12T19:11:19.396063Z",
     "iopub.status.busy": "2022-05-12T19:11:19.395659Z",
     "iopub.status.idle": "2022-05-12T19:11:19.405182Z",
     "shell.execute_reply": "2022-05-12T19:11:19.403969Z",
     "shell.execute_reply.started": "2022-05-12T19:11:19.396027Z"
    }
   },
   "outputs": [
    {
     "data": {
      "text/plain": [
       "0"
      ]
     },
     "execution_count": 16,
     "metadata": {},
     "output_type": "execute_result"
    }
   ],
   "source": [
    "#  For Loan amount since there is major difference between median and mean. So, let's fill the missing values with median.\n",
    "\n",
    "num_data.LoanAmount = num_data.LoanAmount.fillna(num_data[\"LoanAmount\"].median())\n",
    "num_data.LoanAmount.isna().sum()"
   ]
  },
  {
   "cell_type": "code",
   "execution_count": 17,
   "metadata": {
    "execution": {
     "iopub.execute_input": "2022-05-12T19:11:37.349420Z",
     "iopub.status.busy": "2022-05-12T19:11:37.348984Z",
     "iopub.status.idle": "2022-05-12T19:11:37.361166Z",
     "shell.execute_reply": "2022-05-12T19:11:37.360340Z",
     "shell.execute_reply.started": "2022-05-12T19:11:37.349388Z"
    }
   },
   "outputs": [],
   "source": [
    "# Filling remaining missing values with previously occuring value in resspective columns.\n",
    "\n",
    "num_data.Loan_Amount_Term = num_data.Loan_Amount_Term.fillna(method=\"bfill\")\n",
    "num_data.Credit_History = num_data.Credit_History.fillna(method=\"bfill\")"
   ]
  },
  {
   "cell_type": "code",
   "execution_count": 18,
   "metadata": {
    "execution": {
     "iopub.execute_input": "2022-05-12T19:11:52.782680Z",
     "iopub.status.busy": "2022-05-12T19:11:52.781877Z",
     "iopub.status.idle": "2022-05-12T19:11:52.791293Z",
     "shell.execute_reply": "2022-05-12T19:11:52.790202Z",
     "shell.execute_reply.started": "2022-05-12T19:11:52.782640Z"
    }
   },
   "outputs": [
    {
     "data": {
      "text/plain": [
       "ApplicantIncome      0\n",
       "CoapplicantIncome    0\n",
       "LoanAmount           0\n",
       "Loan_Amount_Term     0\n",
       "Credit_History       0\n",
       "dtype: int64"
      ]
     },
     "execution_count": 18,
     "metadata": {},
     "output_type": "execute_result"
    }
   ],
   "source": [
    "# Rechecking, if any missing values remaining.\n",
    "num_data.isna().sum()"
   ]
  },
  {
   "cell_type": "markdown",
   "metadata": {},
   "source": [
    "Distribution for Numerical Data"
   ]
  },
  {
   "cell_type": "code",
   "execution_count": 19,
   "metadata": {
    "execution": {
     "iopub.execute_input": "2022-05-12T19:12:10.412006Z",
     "iopub.status.busy": "2022-05-12T19:12:10.411666Z",
     "iopub.status.idle": "2022-05-12T19:12:10.736187Z",
     "shell.execute_reply": "2022-05-12T19:12:10.734922Z",
     "shell.execute_reply.started": "2022-05-12T19:12:10.411972Z"
    }
   },
   "outputs": [
    {
     "data": {
      "image/png": "[encoded data removed]",
      "text/plain": [
       "<Figure size 432x288 with 1 Axes>"
      ]
     },
     "metadata": {
      "needs_background": "light"
     },
     "output_type": "display_data"
    }
   ],
   "source": [
    "sns.distplot(num_data.ApplicantIncome);"
   ]
  },
  {
   "cell_type": "code",
   "execution_count": 20,
   "metadata": {
    "execution": {
     "iopub.execute_input": "2022-05-12T19:12:40.303763Z",
     "iopub.status.busy": "2022-05-12T19:12:40.303469Z",
     "iopub.status.idle": "2022-05-12T19:12:40.579476Z",
     "shell.execute_reply": "2022-05-12T19:12:40.578659Z",
     "shell.execute_reply.started": "2022-05-12T19:12:40.303733Z"
    }
   },
   "outputs": [
    {
     "data": {
      "image/png": "[encoded data removed]",
      "text/plain": [
       "<Figure size 432x288 with 1 Axes>"
      ]
     },
     "metadata": {
      "needs_background": "light"
     },
     "output_type": "display_data"
    }
   ],
   "source": [
    "sns.distplot(num_data.CoapplicantIncome);"
   ]
  },
  {
   "cell_type": "code",
   "execution_count": 21,
   "metadata": {
    "execution": {
     "iopub.execute_input": "2022-05-12T19:12:54.765967Z",
     "iopub.status.busy": "2022-05-12T19:12:54.765392Z",
     "iopub.status.idle": "2022-05-12T19:12:55.045619Z",
     "shell.execute_reply": "2022-05-12T19:12:55.044759Z",
     "shell.execute_reply.started": "2022-05-12T19:12:54.765922Z"
    }
   },
   "outputs": [
    {
     "data": {
      "image/png": "[encoded data removed]",
      "text/plain": [
       "<Figure size 432x288 with 1 Axes>"
      ]
     },
     "metadata": {
      "needs_background": "light"
     },
     "output_type": "display_data"
    }
   ],
   "source": [
    "sns.distplot(num_data.LoanAmount);"
   ]
  },
  {
   "cell_type": "code",
   "execution_count": 22,
   "metadata": {
    "execution": {
     "iopub.execute_input": "2022-05-12T19:13:08.237468Z",
     "iopub.status.busy": "2022-05-12T19:13:08.237152Z",
     "iopub.status.idle": "2022-05-12T19:13:08.246441Z",
     "shell.execute_reply": "2022-05-12T19:13:08.245375Z",
     "shell.execute_reply.started": "2022-05-12T19:13:08.237434Z"
    }
   },
   "outputs": [],
   "source": [
    "#  Since above plots are not gaussian. Let's normalise them and get rid of outliers.\n",
    "\n",
    "num_data.ApplicantIncome = np.log(num_data.ApplicantIncome)\n",
    "num_data.CoapplicantIncome = np.log(num_data.CoapplicantIncome + 1)  # Since some values are zero to avoid log 0 =infinity.\n",
    "num_data.LoanAmount = np.log(num_data.LoanAmount)\n",
    "num_data.Loan_Amount_Term = np.log(num_data.Loan_Amount_Term)"
   ]
  },
  {
   "cell_type": "code",
   "execution_count": 23,
   "metadata": {
    "execution": {
     "iopub.execute_input": "2022-05-12T19:13:21.609807Z",
     "iopub.status.busy": "2022-05-12T19:13:21.609499Z",
     "iopub.status.idle": "2022-05-12T19:13:21.877881Z",
     "shell.execute_reply": "2022-05-12T19:13:21.876814Z",
     "shell.execute_reply.started": "2022-05-12T19:13:21.609772Z"
    }
   },
   "outputs": [
    {
     "data": {
      "image/png": "[encoded data removed]",
      "text/plain": [
       "<Figure size 432x288 with 1 Axes>"
      ]
     },
     "metadata": {
      "needs_background": "light"
     },
     "output_type": "display_data"
    }
   ],
   "source": [
    "#   Again checking the plots.\n",
    "\n",
    "sns.distplot(num_data.ApplicantIncome);"
   ]
  },
  {
   "cell_type": "code",
   "execution_count": 24,
   "metadata": {
    "execution": {
     "iopub.execute_input": "2022-05-12T19:13:31.076618Z",
     "iopub.status.busy": "2022-05-12T19:13:31.076330Z",
     "iopub.status.idle": "2022-05-12T19:13:31.294916Z",
     "shell.execute_reply": "2022-05-12T19:13:31.293805Z",
     "shell.execute_reply.started": "2022-05-12T19:13:31.076588Z"
    }
   },
   "outputs": [
    {
     "data": {
      "image/png": "[encoded data removed]",
      "text/plain": [
       "<Figure size 432x288 with 1 Axes>"
      ]
     },
     "metadata": {
      "needs_background": "light"
     },
     "output_type": "display_data"
    }
   ],
   "source": [
    "sns.distplot(num_data.CoapplicantIncome);"
   ]
  },
  {
   "cell_type": "code",
   "execution_count": 25,
   "metadata": {
    "execution": {
     "iopub.execute_input": "2022-05-12T19:13:41.341013Z",
     "iopub.status.busy": "2022-05-12T19:13:41.340704Z",
     "iopub.status.idle": "2022-05-12T19:13:41.620618Z",
     "shell.execute_reply": "2022-05-12T19:13:41.619795Z",
     "shell.execute_reply.started": "2022-05-12T19:13:41.340978Z"
    }
   },
   "outputs": [
    {
     "data": {
      "image/png": "[encoded data removed]",
      "text/plain": [
       "<Figure size 432x288 with 1 Axes>"
      ]
     },
     "metadata": {
      "needs_background": "light"
     },
     "output_type": "display_data"
    }
   ],
   "source": [
    "sns.distplot(num_data.LoanAmount);"
   ]
  },
  {
   "cell_type": "markdown",
   "metadata": {},
   "source": [
    "Categorical Visualization"
   ]
  },
  {
   "cell_type": "code",
   "execution_count": 26,
   "metadata": {
    "execution": {
     "iopub.execute_input": "2022-05-12T19:14:16.552686Z",
     "iopub.status.busy": "2022-05-12T19:14:16.551669Z",
     "iopub.status.idle": "2022-05-12T19:14:16.754217Z",
     "shell.execute_reply": "2022-05-12T19:14:16.753237Z",
     "shell.execute_reply.started": "2022-05-12T19:14:16.552627Z"
    }
   },
   "outputs": [
    {
     "data": {
      "image/png": "[encoded data removed]",
      "text/plain": [
       "<Figure size 432x288 with 1 Axes>"
      ]
     },
     "metadata": {
      "needs_background": "light"
     },
     "output_type": "display_data"
    }
   ],
   "source": [
    "#  Married v/s Loan status\n",
    "sns.countplot(x=\"Married\", hue=\"Loan_Status\", data=cat_data);\n",
    "\n",
    "#  There is higher chance of loan approval if you are married."
   ]
  },
  {
   "cell_type": "code",
   "execution_count": 27,
   "metadata": {
    "execution": {
     "iopub.execute_input": "2022-05-12T19:14:27.943357Z",
     "iopub.status.busy": "2022-05-12T19:14:27.942208Z",
     "iopub.status.idle": "2022-05-12T19:14:28.277314Z",
     "shell.execute_reply": "2022-05-12T19:14:28.276277Z",
     "shell.execute_reply.started": "2022-05-12T19:14:27.943305Z"
    }
   },
   "outputs": [
    {
     "data": {
      "image/png": "[encoded data removed]",
      "text/plain": [
       "<Figure size 432x288 with 1 Axes>"
      ]
     },
     "metadata": {
      "needs_background": "light"
     },
     "output_type": "display_data"
    }
   ],
   "source": [
    "#  Gender v/s Loan status\n",
    "sns.countplot(x=\"Gender\", hue=\"Loan_Status\", data=cat_data);\n",
    "\n",
    "#  Most of the males have got there loans approved."
   ]
  },
  {
   "cell_type": "code",
   "execution_count": 28,
   "metadata": {
    "execution": {
     "iopub.execute_input": "2022-05-12T19:14:39.851018Z",
     "iopub.status.busy": "2022-05-12T19:14:39.850689Z",
     "iopub.status.idle": "2022-05-12T19:14:40.060170Z",
     "shell.execute_reply": "2022-05-12T19:14:40.058874Z",
     "shell.execute_reply.started": "2022-05-12T19:14:39.850985Z"
    }
   },
   "outputs": [
    {
     "data": {
      "image/png": "[encoded data removed]",
      "text/plain": [
       "<Figure size 432x288 with 1 Axes>"
      ]
     },
     "metadata": {
      "needs_background": "light"
     },
     "output_type": "display_data"
    }
   ],
   "source": [
    "#  Dependents v/s Loan status\n",
    "sns.countplot(x=\"Dependents\", hue=\"Loan_Status\", data=cat_data);\n",
    "\n",
    "#  Having zero dependency increases the probability of loan approval."
   ]
  },
  {
   "cell_type": "code",
   "execution_count": 29,
   "metadata": {
    "execution": {
     "iopub.execute_input": "2022-05-12T19:14:50.821598Z",
     "iopub.status.busy": "2022-05-12T19:14:50.821281Z",
     "iopub.status.idle": "2022-05-12T19:14:51.015947Z",
     "shell.execute_reply": "2022-05-12T19:14:51.014959Z",
     "shell.execute_reply.started": "2022-05-12T19:14:50.821563Z"
    }
   },
   "outputs": [
    {
     "data": {
      "image/png": "[encoded data removed]",
      "text/plain": [
       "<Figure size 432x288 with 1 Axes>"
      ]
     },
     "metadata": {
      "needs_background": "light"
     },
     "output_type": "display_data"
    }
   ],
   "source": [
    "#  Education v/s Loan status\n",
    "sns.countplot(x=\"Education\", hue=\"Loan_Status\", data=cat_data);\n",
    "\n",
    "#  Graduation preffered over non graduates."
   ]
  },
  {
   "cell_type": "code",
   "execution_count": 30,
   "metadata": {
    "execution": {
     "iopub.execute_input": "2022-05-12T19:15:03.963466Z",
     "iopub.status.busy": "2022-05-12T19:15:03.962982Z",
     "iopub.status.idle": "2022-05-12T19:15:03.979929Z",
     "shell.execute_reply": "2022-05-12T19:15:03.978648Z",
     "shell.execute_reply.started": "2022-05-12T19:15:03.963405Z"
    }
   },
   "outputs": [
    {
     "data": {
      "text/html": [
       "<div>\n",
       "<style scoped>\n",
       "    .dataframe tbody tr th:only-of-type {\n",
       "        vertical-align: middle;\n",
       "    }\n",
       "\n",
       "    .dataframe tbody tr th {\n",
       "        vertical-align: top;\n",
       "    }\n",
       "\n",
       "    .dataframe thead th {\n",
       "        text-align: right;\n",
       "    }\n",
       "</style>\n",
       "<table border=\"1\" class=\"dataframe\">\n",
       "  <thead>\n",
       "    <tr style=\"text-align: right;\">\n",
       "      <th></th>\n",
       "      <th>0</th>\n",
       "      <th>1</th>\n",
       "      <th>2</th>\n",
       "      <th>3</th>\n",
       "      <th>4</th>\n",
       "    </tr>\n",
       "  </thead>\n",
       "  <tbody>\n",
       "    <tr>\n",
       "      <th>ApplicantIncome</th>\n",
       "      <td>8.67403</td>\n",
       "      <td>8.43011</td>\n",
       "      <td>8.00637</td>\n",
       "      <td>7.85671</td>\n",
       "      <td>8.69951</td>\n",
       "    </tr>\n",
       "    <tr>\n",
       "      <th>CoapplicantIncome</th>\n",
       "      <td>0</td>\n",
       "      <td>7.3192</td>\n",
       "      <td>0</td>\n",
       "      <td>7.76599</td>\n",
       "      <td>0</td>\n",
       "    </tr>\n",
       "    <tr>\n",
       "      <th>LoanAmount</th>\n",
       "      <td>4.85203</td>\n",
       "      <td>4.85203</td>\n",
       "      <td>4.18965</td>\n",
       "      <td>4.78749</td>\n",
       "      <td>4.94876</td>\n",
       "    </tr>\n",
       "    <tr>\n",
       "      <th>Loan_Amount_Term</th>\n",
       "      <td>5.8861</td>\n",
       "      <td>5.8861</td>\n",
       "      <td>5.8861</td>\n",
       "      <td>5.8861</td>\n",
       "      <td>5.8861</td>\n",
       "    </tr>\n",
       "    <tr>\n",
       "      <th>Credit_History</th>\n",
       "      <td>1</td>\n",
       "      <td>1</td>\n",
       "      <td>1</td>\n",
       "      <td>1</td>\n",
       "      <td>1</td>\n",
       "    </tr>\n",
       "    <tr>\n",
       "      <th>Gender</th>\n",
       "      <td>Male</td>\n",
       "      <td>Male</td>\n",
       "      <td>Male</td>\n",
       "      <td>Male</td>\n",
       "      <td>Male</td>\n",
       "    </tr>\n",
       "    <tr>\n",
       "      <th>Married</th>\n",
       "      <td>No</td>\n",
       "      <td>Yes</td>\n",
       "      <td>Yes</td>\n",
       "      <td>Yes</td>\n",
       "      <td>No</td>\n",
       "    </tr>\n",
       "    <tr>\n",
       "      <th>Dependents</th>\n",
       "      <td>0</td>\n",
       "      <td>1</td>\n",
       "      <td>0</td>\n",
       "      <td>0</td>\n",
       "      <td>0</td>\n",
       "    </tr>\n",
       "    <tr>\n",
       "      <th>Education</th>\n",
       "      <td>Graduate</td>\n",
       "      <td>Graduate</td>\n",
       "      <td>Graduate</td>\n",
       "      <td>Not Graduate</td>\n",
       "      <td>Graduate</td>\n",
       "    </tr>\n",
       "    <tr>\n",
       "      <th>Self_Employed</th>\n",
       "      <td>No</td>\n",
       "      <td>No</td>\n",
       "      <td>Yes</td>\n",
       "      <td>No</td>\n",
       "      <td>No</td>\n",
       "    </tr>\n",
       "    <tr>\n",
       "      <th>Property_Area</th>\n",
       "      <td>Urban</td>\n",
       "      <td>Rural</td>\n",
       "      <td>Urban</td>\n",
       "      <td>Urban</td>\n",
       "      <td>Urban</td>\n",
       "    </tr>\n",
       "    <tr>\n",
       "      <th>Loan_Status</th>\n",
       "      <td>Y</td>\n",
       "      <td>N</td>\n",
       "      <td>Y</td>\n",
       "      <td>Y</td>\n",
       "      <td>Y</td>\n",
       "    </tr>\n",
       "  </tbody>\n",
       "</table>\n",
       "</div>"
      ],
      "text/plain": [
       "                          0         1         2             3         4\n",
       "ApplicantIncome     8.67403   8.43011   8.00637       7.85671   8.69951\n",
       "CoapplicantIncome         0    7.3192         0       7.76599         0\n",
       "LoanAmount          4.85203   4.85203   4.18965       4.78749   4.94876\n",
       "Loan_Amount_Term     5.8861    5.8861    5.8861        5.8861    5.8861\n",
       "Credit_History            1         1         1             1         1\n",
       "Gender                 Male      Male      Male          Male      Male\n",
       "Married                  No       Yes       Yes           Yes        No\n",
       "Dependents                0         1         0             0         0\n",
       "Education          Graduate  Graduate  Graduate  Not Graduate  Graduate\n",
       "Self_Employed            No        No       Yes            No        No\n",
       "Property_Area         Urban     Rural     Urban         Urban     Urban\n",
       "Loan_Status               Y         N         Y             Y         Y"
      ]
     },
     "execution_count": 30,
     "metadata": {},
     "output_type": "execute_result"
    }
   ],
   "source": [
    "#  Concatenating the updated categorical and numerical data\n",
    "\n",
    "data = pd.concat([num_data, cat_data], axis=1)\n",
    "data.head().T"
   ]
  },
  {
   "cell_type": "markdown",
   "metadata": {},
   "source": [
    "Converting Categorical Data to numerical"
   ]
  },
  {
   "cell_type": "code",
   "execution_count": 31,
   "metadata": {
    "execution": {
     "iopub.execute_input": "2022-05-12T19:15:41.222065Z",
     "iopub.status.busy": "2022-05-12T19:15:41.221735Z",
     "iopub.status.idle": "2022-05-12T19:15:41.386670Z",
     "shell.execute_reply": "2022-05-12T19:15:41.385573Z",
     "shell.execute_reply.started": "2022-05-12T19:15:41.222030Z"
    }
   },
   "outputs": [
    {
     "data": {
      "text/html": [
       "<div>\n",
       "<style scoped>\n",
       "    .dataframe tbody tr th:only-of-type {\n",
       "        vertical-align: middle;\n",
       "    }\n",
       "\n",
       "    .dataframe tbody tr th {\n",
       "        vertical-align: top;\n",
       "    }\n",
       "\n",
       "    .dataframe thead th {\n",
       "        text-align: right;\n",
       "    }\n",
       "</style>\n",
       "<table border=\"1\" class=\"dataframe\">\n",
       "  <thead>\n",
       "    <tr style=\"text-align: right;\">\n",
       "      <th></th>\n",
       "      <th>0</th>\n",
       "      <th>1</th>\n",
       "      <th>2</th>\n",
       "      <th>3</th>\n",
       "      <th>4</th>\n",
       "    </tr>\n",
       "  </thead>\n",
       "  <tbody>\n",
       "    <tr>\n",
       "      <th>ApplicantIncome</th>\n",
       "      <td>8.674026</td>\n",
       "      <td>8.430109</td>\n",
       "      <td>8.006368</td>\n",
       "      <td>7.856707</td>\n",
       "      <td>8.699515</td>\n",
       "    </tr>\n",
       "    <tr>\n",
       "      <th>CoapplicantIncome</th>\n",
       "      <td>0.000000</td>\n",
       "      <td>7.319202</td>\n",
       "      <td>0.000000</td>\n",
       "      <td>7.765993</td>\n",
       "      <td>0.000000</td>\n",
       "    </tr>\n",
       "    <tr>\n",
       "      <th>LoanAmount</th>\n",
       "      <td>4.852030</td>\n",
       "      <td>4.852030</td>\n",
       "      <td>4.189655</td>\n",
       "      <td>4.787492</td>\n",
       "      <td>4.948760</td>\n",
       "    </tr>\n",
       "    <tr>\n",
       "      <th>Loan_Amount_Term</th>\n",
       "      <td>5.886104</td>\n",
       "      <td>5.886104</td>\n",
       "      <td>5.886104</td>\n",
       "      <td>5.886104</td>\n",
       "      <td>5.886104</td>\n",
       "    </tr>\n",
       "    <tr>\n",
       "      <th>Credit_History</th>\n",
       "      <td>1.000000</td>\n",
       "      <td>1.000000</td>\n",
       "      <td>1.000000</td>\n",
       "      <td>1.000000</td>\n",
       "      <td>1.000000</td>\n",
       "    </tr>\n",
       "    <tr>\n",
       "      <th>Gender</th>\n",
       "      <td>1.000000</td>\n",
       "      <td>1.000000</td>\n",
       "      <td>1.000000</td>\n",
       "      <td>1.000000</td>\n",
       "      <td>1.000000</td>\n",
       "    </tr>\n",
       "    <tr>\n",
       "      <th>Married</th>\n",
       "      <td>0.000000</td>\n",
       "      <td>1.000000</td>\n",
       "      <td>1.000000</td>\n",
       "      <td>1.000000</td>\n",
       "      <td>0.000000</td>\n",
       "    </tr>\n",
       "    <tr>\n",
       "      <th>Dependents</th>\n",
       "      <td>0.000000</td>\n",
       "      <td>1.000000</td>\n",
       "      <td>0.000000</td>\n",
       "      <td>0.000000</td>\n",
       "      <td>0.000000</td>\n",
       "    </tr>\n",
       "    <tr>\n",
       "      <th>Education</th>\n",
       "      <td>0.000000</td>\n",
       "      <td>0.000000</td>\n",
       "      <td>0.000000</td>\n",
       "      <td>1.000000</td>\n",
       "      <td>0.000000</td>\n",
       "    </tr>\n",
       "    <tr>\n",
       "      <th>Self_Employed</th>\n",
       "      <td>0.000000</td>\n",
       "      <td>0.000000</td>\n",
       "      <td>1.000000</td>\n",
       "      <td>0.000000</td>\n",
       "      <td>0.000000</td>\n",
       "    </tr>\n",
       "    <tr>\n",
       "      <th>Property_Area</th>\n",
       "      <td>2.000000</td>\n",
       "      <td>0.000000</td>\n",
       "      <td>2.000000</td>\n",
       "      <td>2.000000</td>\n",
       "      <td>2.000000</td>\n",
       "    </tr>\n",
       "    <tr>\n",
       "      <th>Loan_Status</th>\n",
       "      <td>1.000000</td>\n",
       "      <td>0.000000</td>\n",
       "      <td>1.000000</td>\n",
       "      <td>1.000000</td>\n",
       "      <td>1.000000</td>\n",
       "    </tr>\n",
       "  </tbody>\n",
       "</table>\n",
       "</div>"
      ],
      "text/plain": [
       "                          0         1         2         3         4\n",
       "ApplicantIncome    8.674026  8.430109  8.006368  7.856707  8.699515\n",
       "CoapplicantIncome  0.000000  7.319202  0.000000  7.765993  0.000000\n",
       "LoanAmount         4.852030  4.852030  4.189655  4.787492  4.948760\n",
       "Loan_Amount_Term   5.886104  5.886104  5.886104  5.886104  5.886104\n",
       "Credit_History     1.000000  1.000000  1.000000  1.000000  1.000000\n",
       "Gender             1.000000  1.000000  1.000000  1.000000  1.000000\n",
       "Married            0.000000  1.000000  1.000000  1.000000  0.000000\n",
       "Dependents         0.000000  1.000000  0.000000  0.000000  0.000000\n",
       "Education          0.000000  0.000000  0.000000  1.000000  0.000000\n",
       "Self_Employed      0.000000  0.000000  1.000000  0.000000  0.000000\n",
       "Property_Area      2.000000  0.000000  2.000000  2.000000  2.000000\n",
       "Loan_Status        1.000000  0.000000  1.000000  1.000000  1.000000"
      ]
     },
     "execution_count": 31,
     "metadata": {},
     "output_type": "execute_result"
    }
   ],
   "source": [
    "from sklearn.preprocessing import LabelEncoder\n",
    "\n",
    "LE = LabelEncoder()\n",
    "\n",
    "cols = ['Gender', 'Married', 'Education', \n",
    "        'Self_Employed', 'Property_Area', \n",
    "        'Loan_Status', 'Dependents']\n",
    "for col in cols:\n",
    "    data[col] = LE.fit_transform(data[col])\n",
    "\n",
    "data.head().T"
   ]
  },
  {
   "cell_type": "markdown",
   "metadata": {},
   "source": [
    "Visualizing Correlation"
   ]
  },
  {
   "cell_type": "code",
   "execution_count": 32,
   "metadata": {
    "execution": {
     "iopub.execute_input": "2022-05-12T19:16:15.951003Z",
     "iopub.status.busy": "2022-05-12T19:16:15.950649Z",
     "iopub.status.idle": "2022-05-12T19:16:16.895871Z",
     "shell.execute_reply": "2022-05-12T19:16:16.894890Z",
     "shell.execute_reply.started": "2022-05-12T19:16:15.950966Z"
    }
   },
   "outputs": [
    {
     "data": {
      "image/png": "[encoded data removed]",
      "text/plain": [
       "<Figure size 1080x864 with 2 Axes>"
      ]
     },
     "metadata": {
      "needs_background": "light"
     },
     "output_type": "display_data"
    }
   ],
   "source": [
    "corr = data.corr()\n",
    "plt.figure(figsize=(15, 12))\n",
    "sns.heatmap(corr, annot=True);"
   ]
  },
  {
   "cell_type": "markdown",
   "metadata": {},
   "source": [
    "Interpretation:\n",
    "* The dependent variable Loan_status has less correlation with Loan amount term and Self employed.\n",
    "Shall drop them during modelling."
   ]
  },
  {
   "cell_type": "markdown",
   "metadata": {},
   "source": [
    "Modelling:"
   ]
  },
  {
   "cell_type": "code",
   "execution_count": 33,
   "metadata": {
    "execution": {
     "iopub.execute_input": "2022-05-12T19:17:03.867430Z",
     "iopub.status.busy": "2022-05-12T19:17:03.867134Z",
     "iopub.status.idle": "2022-05-12T19:17:03.873412Z",
     "shell.execute_reply": "2022-05-12T19:17:03.872766Z",
     "shell.execute_reply.started": "2022-05-12T19:17:03.867400Z"
    }
   },
   "outputs": [],
   "source": [
    "#  Splitting into x and y\n",
    "\n",
    "x = data.drop([\"Loan_Amount_Term\", \"Self_Employed\", \"Loan_Status\"], axis=1)\n",
    "y = data[\"Loan_Status\"]"
   ]
  },
  {
   "cell_type": "code",
   "execution_count": 34,
   "metadata": {
    "execution": {
     "iopub.execute_input": "2022-05-12T19:17:17.857352Z",
     "iopub.status.busy": "2022-05-12T19:17:17.856919Z",
     "iopub.status.idle": "2022-05-12T19:17:17.934336Z",
     "shell.execute_reply": "2022-05-12T19:17:17.933329Z",
     "shell.execute_reply.started": "2022-05-12T19:17:17.857320Z"
    }
   },
   "outputs": [],
   "source": [
    "from sklearn.model_selection import train_test_split\n",
    "\n",
    "x_train, x_test, y_train, y_test = train_test_split(x, y, test_size=0.3)"
   ]
  },
  {
   "cell_type": "code",
   "execution_count": 35,
   "metadata": {
    "execution": {
     "iopub.execute_input": "2022-05-12T19:17:35.014200Z",
     "iopub.status.busy": "2022-05-12T19:17:35.013826Z",
     "iopub.status.idle": "2022-05-12T19:17:35.271123Z",
     "shell.execute_reply": "2022-05-12T19:17:35.270003Z",
     "shell.execute_reply.started": "2022-05-12T19:17:35.014164Z"
    }
   },
   "outputs": [],
   "source": [
    "#  Put models in a dictionary\n",
    "\n",
    "from sklearn.ensemble import RandomForestClassifier, ExtraTreesClassifier\n",
    "from sklearn.tree import DecisionTreeClassifier\n",
    "from sklearn.linear_model import LogisticRegression\n",
    "from sklearn.neighbors import KNeighborsClassifier\n",
    "from sklearn.svm import SVC\n",
    "\n",
    "\n",
    "# Model Evaluations\n",
    "from sklearn.model_selection import train_test_split, cross_val_score\n",
    "from sklearn.model_selection import RandomizedSearchCV, GridSearchCV\n",
    "from sklearn.metrics import confusion_matrix, classification_report\n",
    "from sklearn.metrics import precision_score, recall_score, f1_score\n",
    "from sklearn.metrics import plot_roc_curve\n",
    "from sklearn.metrics import plot_confusion_matrix\n",
    "\n",
    "\n",
    "\n",
    "models = {'RandomForestClassifier': RandomForestClassifier(),\n",
    "          'ExtraTreesClassifier': ExtraTreesClassifier(),\n",
    "          'DecisionTreeClassifier': DecisionTreeClassifier(),\n",
    "          'LogisticRegression': LogisticRegression(),\n",
    "          'KNeighborsClassifier': KNeighborsClassifier(),\n",
    "          'SVC': SVC()\n",
    "         }\n",
    "\n",
    "def Fit_Score(model, x_train, y_train, x_test, y_test, x, y):\n",
    "    \n",
    "    \n",
    "    np.random.seed(45)\n",
    "    model_scores = {}\n",
    "    for name, model in models.items():\n",
    "        model.fit(x_train, y_train)\n",
    "        model_scores[name] = {\"Accuracy\": model.score(x_test, y_test),\n",
    "                              \"cv_acc\": np.mean(cross_val_score(model, x, y, cv=5, scoring=\"accuracy\"))}\n",
    "    return model_scores"
   ]
  },
  {
   "cell_type": "code",
   "execution_count": 36,
   "metadata": {
    "execution": {
     "iopub.execute_input": "2022-05-12T19:17:50.787310Z",
     "iopub.status.busy": "2022-05-12T19:17:50.786346Z",
     "iopub.status.idle": "2022-05-12T19:17:53.548809Z",
     "shell.execute_reply": "2022-05-12T19:17:53.547868Z",
     "shell.execute_reply.started": "2022-05-12T19:17:50.787260Z"
    }
   },
   "outputs": [
    {
     "data": {
      "text/html": [
       "<div>\n",
       "<style scoped>\n",
       "    .dataframe tbody tr th:only-of-type {\n",
       "        vertical-align: middle;\n",
       "    }\n",
       "\n",
       "    .dataframe tbody tr th {\n",
       "        vertical-align: top;\n",
       "    }\n",
       "\n",
       "    .dataframe thead th {\n",
       "        text-align: right;\n",
       "    }\n",
       "</style>\n",
       "<table border=\"1\" class=\"dataframe\">\n",
       "  <thead>\n",
       "    <tr style=\"text-align: right;\">\n",
       "      <th></th>\n",
       "      <th>Accuracy</th>\n",
       "      <th>cv_acc</th>\n",
       "    </tr>\n",
       "  </thead>\n",
       "  <tbody>\n",
       "    <tr>\n",
       "      <th>RandomForestClassifier</th>\n",
       "      <td>0.718919</td>\n",
       "      <td>0.781794</td>\n",
       "    </tr>\n",
       "    <tr>\n",
       "      <th>ExtraTreesClassifier</th>\n",
       "      <td>0.708108</td>\n",
       "      <td>0.749220</td>\n",
       "    </tr>\n",
       "    <tr>\n",
       "      <th>DecisionTreeClassifier</th>\n",
       "      <td>0.648649</td>\n",
       "      <td>0.688951</td>\n",
       "    </tr>\n",
       "    <tr>\n",
       "      <th>LogisticRegression</th>\n",
       "      <td>0.778378</td>\n",
       "      <td>0.802972</td>\n",
       "    </tr>\n",
       "    <tr>\n",
       "      <th>KNeighborsClassifier</th>\n",
       "      <td>0.718919</td>\n",
       "      <td>0.749207</td>\n",
       "    </tr>\n",
       "    <tr>\n",
       "      <th>SVC</th>\n",
       "      <td>0.686486</td>\n",
       "      <td>0.713301</td>\n",
       "    </tr>\n",
       "  </tbody>\n",
       "</table>\n",
       "</div>"
      ],
      "text/plain": [
       "                        Accuracy    cv_acc\n",
       "RandomForestClassifier  0.718919  0.781794\n",
       "ExtraTreesClassifier    0.708108  0.749220\n",
       "DecisionTreeClassifier  0.648649  0.688951\n",
       "LogisticRegression      0.778378  0.802972\n",
       "KNeighborsClassifier    0.718919  0.749207\n",
       "SVC                     0.686486  0.713301"
      ]
     },
     "execution_count": 36,
     "metadata": {},
     "output_type": "execute_result"
    }
   ],
   "source": [
    "Scores = Fit_Score(model=models, x_train=x_train, y_train=y_train, x_test=x_test, y_test=y_test, x=x, y=y)\n",
    "pd.DataFrame(Scores.values(), Scores.keys())"
   ]
  },
  {
   "cell_type": "markdown",
   "metadata": {},
   "source": [
    "Improving the models.\n",
    "* Further tunning the hyper parameters.\n",
    "\n",
    "\n",
    "\n",
    "1. Random Forest Classifier\n",
    "a. Random Search CV"
   ]
  },
  {
   "cell_type": "code",
   "execution_count": 37,
   "metadata": {
    "execution": {
     "iopub.execute_input": "2022-05-12T19:19:30.627099Z",
     "iopub.status.busy": "2022-05-12T19:19:30.626808Z",
     "iopub.status.idle": "2022-05-12T19:20:48.704916Z",
     "shell.execute_reply": "2022-05-12T19:20:48.704138Z",
     "shell.execute_reply.started": "2022-05-12T19:19:30.627070Z"
    }
   },
   "outputs": [
    {
     "name": "stdout",
     "output_type": "stream",
     "text": [
      "Fitting 5 folds for each of 15 candidates, totalling 75 fits\n"
     ]
    },
    {
     "name": "stderr",
     "output_type": "stream",
     "text": [
      "[Parallel(n_jobs=1)]: Using backend SequentialBackend with 1 concurrent workers.\n",
      "[Parallel(n_jobs=1)]: Done  75 out of  75 | elapsed:   40.8s finished\n"
     ]
    },
    {
     "data": {
      "text/plain": [
       "RandomizedSearchCV(cv=5, estimator=RandomForestClassifier(n_jobs=1), n_iter=15,\n",
       "                   param_distributions={'max_depth': [3, 10],\n",
       "                                        'min_samples_leaf': array([ 1,  3,  5,  7,  9, 11, 13, 15, 17, 19]),\n",
       "                                        'min_samples_split': array([ 2,  4,  6,  8, 10, 12, 14, 16, 18]),\n",
       "                                        'n_estimators': array([ 10,  60, 110, 160, 210, 260, 310, 360, 410, 460, 510, 560, 610,\n",
       "       660, 710, 760, 810, 860, 910, 960])},\n",
       "                   verbose=True)"
      ]
     },
     "execution_count": 37,
     "metadata": {},
     "output_type": "execute_result"
    }
   ],
   "source": [
    "grid = {\"n_estimators\": np.arange(10, 1000, 50),\n",
    "       \"max_depth\": [3, 10],\n",
    "       \"min_samples_split\": np.arange(2, 20, 2),\n",
    "       \"min_samples_leaf\": np.arange(1, 20, 2)}\n",
    "#  Tunning\n",
    "\n",
    "np.random.seed(45)\n",
    "rs_clf = RandomizedSearchCV(RandomForestClassifier(n_jobs=1), \n",
    "                            param_distributions=grid, \n",
    "                            cv=5, n_iter=15, verbose=True, refit=True)\n",
    "\n",
    "rs_clf.fit(x_train, y_train)"
   ]
  },
  {
   "cell_type": "code",
   "execution_count": 38,
   "metadata": {
    "execution": {
     "iopub.execute_input": "2022-05-12T19:21:32.253797Z",
     "iopub.status.busy": "2022-05-12T19:21:32.253496Z",
     "iopub.status.idle": "2022-05-12T19:21:32.260297Z",
     "shell.execute_reply": "2022-05-12T19:21:32.259442Z",
     "shell.execute_reply.started": "2022-05-12T19:21:32.253767Z"
    }
   },
   "outputs": [
    {
     "data": {
      "text/plain": [
       "{'n_estimators': 960,\n",
       " 'min_samples_split': 14,\n",
       " 'min_samples_leaf': 13,\n",
       " 'max_depth': 10}"
      ]
     },
     "execution_count": 38,
     "metadata": {},
     "output_type": "execute_result"
    }
   ],
   "source": [
    "rs_clf.best_params_"
   ]
  },
  {
   "cell_type": "code",
   "execution_count": 39,
   "metadata": {
    "execution": {
     "iopub.execute_input": "2022-05-12T19:21:42.462231Z",
     "iopub.status.busy": "2022-05-12T19:21:42.461919Z",
     "iopub.status.idle": "2022-05-12T19:21:42.605925Z",
     "shell.execute_reply": "2022-05-12T19:21:42.604987Z",
     "shell.execute_reply.started": "2022-05-12T19:21:42.462201Z"
    }
   },
   "outputs": [
    {
     "data": {
      "text/plain": [
       "0.7783783783783784"
      ]
     },
     "execution_count": 39,
     "metadata": {},
     "output_type": "execute_result"
    }
   ],
   "source": [
    "rs_clf.score(x_test, y_test)"
   ]
  },
  {
   "cell_type": "markdown",
   "metadata": {},
   "source": [
    "b. Grid Search CV"
   ]
  },
  {
   "cell_type": "code",
   "execution_count": 40,
   "metadata": {
    "execution": {
     "iopub.execute_input": "2022-05-12T19:22:17.971376Z",
     "iopub.status.busy": "2022-05-12T19:22:17.971061Z",
     "iopub.status.idle": "2022-05-12T19:23:32.366287Z",
     "shell.execute_reply": "2022-05-12T19:23:32.365504Z",
     "shell.execute_reply.started": "2022-05-12T19:22:17.971335Z"
    }
   },
   "outputs": [
    {
     "name": "stdout",
     "output_type": "stream",
     "text": [
      "Fitting 5 folds for each of 8 candidates, totalling 40 fits\n"
     ]
    },
    {
     "name": "stderr",
     "output_type": "stream",
     "text": [
      "[Parallel(n_jobs=1)]: Using backend SequentialBackend with 1 concurrent workers.\n",
      "[Parallel(n_jobs=1)]: Done  40 out of  40 | elapsed:   38.9s finished\n"
     ]
    },
    {
     "data": {
      "text/plain": [
       "GridSearchCV(cv=5, estimator=RandomForestClassifier(n_jobs=1),\n",
       "             param_grid={'max_depth': [3, 10], 'min_samples_leaf': [13, 12],\n",
       "                         'min_samples_split': [12, 14], 'n_estimators': [960]},\n",
       "             verbose=True)"
      ]
     },
     "execution_count": 40,
     "metadata": {},
     "output_type": "execute_result"
    }
   ],
   "source": [
    "grid2 = {\"n_estimators\": [960],\n",
    "       \"max_depth\": [3, 10],\n",
    "       \"min_samples_split\": [12, 14],\n",
    "       \"min_samples_leaf\": [13, 12]}\n",
    "#  Tunning\n",
    "np.random.seed(45)\n",
    "\n",
    "gs_clf = GridSearchCV(RandomForestClassifier(n_jobs=1), \n",
    "                            param_grid=grid2, \n",
    "                            cv=5, verbose=True, refit=True)\n",
    "\n",
    "gs_clf.fit(x_train, y_train)"
   ]
  },
  {
   "cell_type": "code",
   "execution_count": 41,
   "metadata": {
    "execution": {
     "iopub.execute_input": "2022-05-12T19:24:13.455590Z",
     "iopub.status.busy": "2022-05-12T19:24:13.455280Z",
     "iopub.status.idle": "2022-05-12T19:24:13.461920Z",
     "shell.execute_reply": "2022-05-12T19:24:13.461083Z",
     "shell.execute_reply.started": "2022-05-12T19:24:13.455557Z"
    }
   },
   "outputs": [
    {
     "data": {
      "text/plain": [
       "{'max_depth': 3,\n",
       " 'min_samples_leaf': 13,\n",
       " 'min_samples_split': 12,\n",
       " 'n_estimators': 960}"
      ]
     },
     "execution_count": 41,
     "metadata": {},
     "output_type": "execute_result"
    }
   ],
   "source": [
    "gs_clf.best_params_"
   ]
  },
  {
   "cell_type": "code",
   "execution_count": 42,
   "metadata": {
    "execution": {
     "iopub.execute_input": "2022-05-12T19:24:25.378031Z",
     "iopub.status.busy": "2022-05-12T19:24:25.377181Z",
     "iopub.status.idle": "2022-05-12T19:24:25.509875Z",
     "shell.execute_reply": "2022-05-12T19:24:25.509108Z",
     "shell.execute_reply.started": "2022-05-12T19:24:25.377969Z"
    }
   },
   "outputs": [
    {
     "data": {
      "text/plain": [
       "0.7783783783783784"
      ]
     },
     "execution_count": 42,
     "metadata": {},
     "output_type": "execute_result"
    }
   ],
   "source": [
    "gs_clf.score(x_test, y_test)"
   ]
  },
  {
   "cell_type": "code",
   "execution_count": 43,
   "metadata": {
    "execution": {
     "iopub.execute_input": "2022-05-12T19:24:50.947830Z",
     "iopub.status.busy": "2022-05-12T19:24:50.947504Z",
     "iopub.status.idle": "2022-05-12T19:24:51.343808Z",
     "shell.execute_reply": "2022-05-12T19:24:51.342785Z",
     "shell.execute_reply.started": "2022-05-12T19:24:50.947788Z"
    }
   },
   "outputs": [
    {
     "name": "stdout",
     "output_type": "stream",
     "text": [
      "Fitting 5 folds for each of 15 candidates, totalling 75 fits\n"
     ]
    },
    {
     "name": "stderr",
     "output_type": "stream",
     "text": [
      "[Parallel(n_jobs=1)]: Using backend SequentialBackend with 1 concurrent workers.\n",
      "[Parallel(n_jobs=1)]: Done  75 out of  75 | elapsed:    0.3s finished\n"
     ]
    },
    {
     "data": {
      "text/plain": [
       "RandomizedSearchCV(cv=5, estimator=LogisticRegression(n_jobs=1), n_iter=15,\n",
       "                   param_distributions={'C': array([1.00000000e-04, 2.63665090e-04, 6.95192796e-04, 1.83298071e-03,\n",
       "       4.83293024e-03, 1.27427499e-02, 3.35981829e-02, 8.85866790e-02,\n",
       "       2.33572147e-01, 6.15848211e-01, 1.62377674e+00, 4.28133240e+00,\n",
       "       1.12883789e+01, 2.97635144e+01, 7.84759970e+01, 2.06913808e+02,\n",
       "       5.45559478e+02, 1.43844989e+03, 3.79269019e+03, 1.00000000e+04]),\n",
       "                                        'solver': ['liblinear']},\n",
       "                   verbose=True)"
      ]
     },
     "execution_count": 43,
     "metadata": {},
     "output_type": "execute_result"
    }
   ],
   "source": [
    "#  Let's try with some random params if the score increases\n",
    "\n",
    "grid3 = {\"C\": np.logspace(-4, 4, 20),\n",
    "        \"solver\": [\"liblinear\"]}\n",
    "\n",
    "        \n",
    "#  Tunning\n",
    "np.random.seed(45)\n",
    "rs_lr = RandomizedSearchCV(LogisticRegression(n_jobs=1), \n",
    "                            param_distributions=grid3, \n",
    "                            cv=5, n_iter=15, verbose=True, refit=True)\n",
    "\n",
    "rs_lr.fit(x_train, y_train)"
   ]
  },
  {
   "cell_type": "code",
   "execution_count": 44,
   "metadata": {
    "execution": {
     "iopub.execute_input": "2022-05-12T19:25:13.884113Z",
     "iopub.status.busy": "2022-05-12T19:25:13.883789Z",
     "iopub.status.idle": "2022-05-12T19:25:13.889380Z",
     "shell.execute_reply": "2022-05-12T19:25:13.888686Z",
     "shell.execute_reply.started": "2022-05-12T19:25:13.884078Z"
    }
   },
   "outputs": [
    {
     "data": {
      "text/plain": [
       "{'solver': 'liblinear', 'C': 0.23357214690901212}"
      ]
     },
     "execution_count": 44,
     "metadata": {},
     "output_type": "execute_result"
    }
   ],
   "source": [
    "rs_lr.best_params_"
   ]
  },
  {
   "cell_type": "code",
   "execution_count": 45,
   "metadata": {
    "execution": {
     "iopub.execute_input": "2022-05-12T19:25:24.935393Z",
     "iopub.status.busy": "2022-05-12T19:25:24.934940Z",
     "iopub.status.idle": "2022-05-12T19:25:24.945370Z",
     "shell.execute_reply": "2022-05-12T19:25:24.944408Z",
     "shell.execute_reply.started": "2022-05-12T19:25:24.935362Z"
    }
   },
   "outputs": [
    {
     "data": {
      "text/plain": [
       "0.7783783783783784"
      ]
     },
     "execution_count": 45,
     "metadata": {},
     "output_type": "execute_result"
    }
   ],
   "source": [
    "rs_lr.score(x_test, y_test)"
   ]
  },
  {
   "cell_type": "markdown",
   "metadata": {},
   "source": [
    "From above tunning it seems the best fit would be with accuracy of 81 %.\n",
    "Further different metrics study.\n",
    "Let's take logistic regression as the perfect model"
   ]
  },
  {
   "cell_type": "code",
   "execution_count": 46,
   "metadata": {
    "execution": {
     "iopub.execute_input": "2022-05-12T19:26:03.119326Z",
     "iopub.status.busy": "2022-05-12T19:26:03.119002Z",
     "iopub.status.idle": "2022-05-12T19:26:03.129459Z",
     "shell.execute_reply": "2022-05-12T19:26:03.128658Z",
     "shell.execute_reply.started": "2022-05-12T19:26:03.119291Z"
    }
   },
   "outputs": [],
   "source": [
    "def Analytics(model, x_train, y_train, x_test, y_test, x, y):\n",
    "    \n",
    "\n",
    "    models = {'RandomForestClassifier': RandomForestClassifier(max_depth=3, min_samples_leaf=13, \n",
    "                                                               min_samples_split=12, n_estimators=960),\n",
    "              'ExtraTreesClassifier': ExtraTreesClassifier(),\n",
    "              'DecisionTreeClassifier': DecisionTreeClassifier(),\n",
    "              'LogisticRegression': LogisticRegression(solver='liblinear', C=545.5594781168514),\n",
    "              'KNeighborsClassifier': KNeighborsClassifier(),\n",
    "              'SVC': SVC()\n",
    "              }\n",
    "    model_scores = {}\n",
    "\n",
    "    np.random.seed(45)\n",
    "    for name, model in models.items():\n",
    "        model.fit(x_train, y_train)\n",
    "        y_preds = model.predict(x_test)\n",
    "        model_scores[name] ={\"cv_acc\": np.mean(cross_val_score(model, x, y, cv=5, scoring=\"accuracy\")),\n",
    "                             \"cv_prec\": np.mean(cross_val_score(model, x, y, cv=5, scoring=\"precision\")),\n",
    "                             \"cv_recall\": np.mean(cross_val_score(model, x, y, cv=5, scoring=\"recall\")),\n",
    "                             \"cv_f1\": np.mean(cross_val_score(model, x, y, cv=5, scoring=\"f1\"))\n",
    "                             }\n",
    "        \n",
    "             \n",
    "    return model_scores"
   ]
  },
  {
   "cell_type": "code",
   "execution_count": 47,
   "metadata": {
    "execution": {
     "iopub.execute_input": "2022-05-12T19:26:27.067634Z",
     "iopub.status.busy": "2022-05-12T19:26:27.067327Z",
     "iopub.status.idle": "2022-05-12T19:27:10.755640Z",
     "shell.execute_reply": "2022-05-12T19:27:10.754757Z",
     "shell.execute_reply.started": "2022-05-12T19:26:27.067601Z"
    }
   },
   "outputs": [
    {
     "data": {
      "text/html": [
       "<div>\n",
       "<style scoped>\n",
       "    .dataframe tbody tr th:only-of-type {\n",
       "        vertical-align: middle;\n",
       "    }\n",
       "\n",
       "    .dataframe tbody tr th {\n",
       "        vertical-align: top;\n",
       "    }\n",
       "\n",
       "    .dataframe thead th {\n",
       "        text-align: right;\n",
       "    }\n",
       "</style>\n",
       "<table border=\"1\" class=\"dataframe\">\n",
       "  <thead>\n",
       "    <tr style=\"text-align: right;\">\n",
       "      <th></th>\n",
       "      <th>cv_acc</th>\n",
       "      <th>cv_prec</th>\n",
       "      <th>cv_recall</th>\n",
       "      <th>cv_f1</th>\n",
       "    </tr>\n",
       "  </thead>\n",
       "  <tbody>\n",
       "    <tr>\n",
       "      <th>RandomForestClassifier</th>\n",
       "      <td>0.802972</td>\n",
       "      <td>0.792028</td>\n",
       "      <td>0.969188</td>\n",
       "      <td>0.871414</td>\n",
       "    </tr>\n",
       "    <tr>\n",
       "      <th>ExtraTreesClassifier</th>\n",
       "      <td>0.754072</td>\n",
       "      <td>0.793548</td>\n",
       "      <td>0.871905</td>\n",
       "      <td>0.830167</td>\n",
       "    </tr>\n",
       "    <tr>\n",
       "      <th>DecisionTreeClassifier</th>\n",
       "      <td>0.688938</td>\n",
       "      <td>0.774554</td>\n",
       "      <td>0.765266</td>\n",
       "      <td>0.775629</td>\n",
       "    </tr>\n",
       "    <tr>\n",
       "      <th>LogisticRegression</th>\n",
       "      <td>0.802972</td>\n",
       "      <td>0.792028</td>\n",
       "      <td>0.969188</td>\n",
       "      <td>0.871414</td>\n",
       "    </tr>\n",
       "    <tr>\n",
       "      <th>KNeighborsClassifier</th>\n",
       "      <td>0.749207</td>\n",
       "      <td>0.760133</td>\n",
       "      <td>0.928768</td>\n",
       "      <td>0.835674</td>\n",
       "    </tr>\n",
       "    <tr>\n",
       "      <th>SVC</th>\n",
       "      <td>0.713301</td>\n",
       "      <td>0.710313</td>\n",
       "      <td>0.988151</td>\n",
       "      <td>0.826072</td>\n",
       "    </tr>\n",
       "  </tbody>\n",
       "</table>\n",
       "</div>"
      ],
      "text/plain": [
       "                          cv_acc   cv_prec  cv_recall     cv_f1\n",
       "RandomForestClassifier  0.802972  0.792028   0.969188  0.871414\n",
       "ExtraTreesClassifier    0.754072  0.793548   0.871905  0.830167\n",
       "DecisionTreeClassifier  0.688938  0.774554   0.765266  0.775629\n",
       "LogisticRegression      0.802972  0.792028   0.969188  0.871414\n",
       "KNeighborsClassifier    0.749207  0.760133   0.928768  0.835674\n",
       "SVC                     0.713301  0.710313   0.988151  0.826072"
      ]
     },
     "execution_count": 47,
     "metadata": {},
     "output_type": "execute_result"
    }
   ],
   "source": [
    "final_scores = Analytics(models, x_train, y_train, x_test, y_test, x, y)\n",
    "scores = pd.DataFrame(final_scores.values(), final_scores.keys())\n",
    "scores"
   ]
  },
  {
   "cell_type": "markdown",
   "metadata": {},
   "source": [
    "Saving Random Forest Model for use"
   ]
  },
  {
   "cell_type": "code",
   "execution_count": 52,
   "metadata": {
    "execution": {
     "iopub.execute_input": "2022-05-12T19:27:59.462979Z",
     "iopub.status.busy": "2022-05-12T19:27:59.462650Z",
     "iopub.status.idle": "2022-05-12T19:27:59.581277Z",
     "shell.execute_reply": "2022-05-12T19:27:59.580414Z",
     "shell.execute_reply.started": "2022-05-12T19:27:59.462931Z"
    }
   },
   "outputs": [
    {
     "data": {
      "text/plain": [
       "[]"
      ]
     },
     "execution_count": 52,
     "metadata": {},
     "output_type": "execute_result"
    }
   ],
   "source": [
    "import os\n",
    "os.listdir(\"./output\")"
   ]
  },
  {
   "cell_type": "code",
   "execution_count": 53,
   "metadata": {
    "execution": {
     "iopub.execute_input": "2022-05-12T19:28:50.997307Z",
     "iopub.status.busy": "2022-05-12T19:28:50.997003Z",
     "iopub.status.idle": "2022-05-12T19:28:51.021195Z",
     "shell.execute_reply": "2022-05-12T19:28:51.020094Z",
     "shell.execute_reply.started": "2022-05-12T19:28:50.997273Z"
    }
   },
   "outputs": [],
   "source": [
    "import pickle\n",
    "filename = './randomForest.sav'\n",
    "pickle.dump(models['RandomForestClassifier'], open(filename, 'wb'))"
   ]
  },
  {
   "cell_type": "code",
   "execution_count": 54,
   "metadata": {
    "execution": {
     "iopub.execute_input": "2022-05-12T19:29:03.834001Z",
     "iopub.status.busy": "2022-05-12T19:29:03.833689Z",
     "iopub.status.idle": "2022-05-12T19:29:03.842636Z",
     "shell.execute_reply": "2022-05-12T19:29:03.841773Z",
     "shell.execute_reply.started": "2022-05-12T19:29:03.833966Z"
    }
   },
   "outputs": [
    {
     "data": {
      "text/plain": [
       "45     1\n",
       "312    1\n",
       "37     1\n",
       "441    1\n",
       "117    1\n",
       "      ..\n",
       "232    1\n",
       "395    1\n",
       "475    1\n",
       "303    1\n",
       "146    1\n",
       "Name: Loan_Status, Length: 429, dtype: int64"
      ]
     },
     "execution_count": 54,
     "metadata": {},
     "output_type": "execute_result"
    }
   ],
   "source": [
    "y_train"
   ]
  },
  {
   "cell_type": "code",
   "execution_count": 55,
   "metadata": {
    "execution": {
     "iopub.execute_input": "2022-05-12T19:29:17.059568Z",
     "iopub.status.busy": "2022-05-12T19:29:17.059250Z",
     "iopub.status.idle": "2022-05-12T19:29:17.086933Z",
     "shell.execute_reply": "2022-05-12T19:29:17.086135Z",
     "shell.execute_reply.started": "2022-05-12T19:29:17.059529Z"
    }
   },
   "outputs": [
    {
     "data": {
      "text/plain": [
       "array([1])"
      ]
     },
     "execution_count": 55,
     "metadata": {},
     "output_type": "execute_result"
    }
   ],
   "source": [
    "loaded_model = pickle.load(open(filename, 'rb'))\n",
    "k=x_train.iloc[4]\n",
    "# print(x_train.iloc[0])\n",
    "# k=k.reshape(-1, 1)\n",
    "# print(k)\n",
    "g=loaded_model.predict([k])\n",
    "g"
   ]
  },
  {
   "cell_type": "code",
   "execution_count": null,
   "metadata": {},
   "outputs": [],
   "source": []
  }
 ],
 "metadata": {
  "kernelspec": {
   "display_name": "Python 3",
   "language": "python",
   "name": "python3"
  },
  "language_info": {
   "codemirror_mode": {
    "name": "ipython",
    "version": 3
   },
   "file_extension": ".py",
   "mimetype": "text/x-python",
   "name": "python",
   "nbconvert_exporter": "python",
   "pygments_lexer": "ipython3",
   "version": "3.8.8"
  }
 },
 "nbformat": 4,
 "nbformat_minor": 4
}
